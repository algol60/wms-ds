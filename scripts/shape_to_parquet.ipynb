{
 "cells": [
  {
   "cell_type": "markdown",
   "id": "fa366b37-d6c0-4a0d-abbf-a446bfd765ea",
   "metadata": {},
   "source": [
    "# Shapefile to Parquet"
   ]
  },
  {
   "cell_type": "code",
   "execution_count": null,
   "id": "c496f58e-f264-4f41-9930-9f2e19d483e7",
   "metadata": {},
   "outputs": [],
   "source": [
    "import pandas as pd\n",
    "import fiona\n",
    "\n",
    "import datashader as ds\n",
    "from datashader import transfer_functions as tf\n",
    "from datashader.colors import inferno, Hot, viridis\n",
    "from colorcet import fire, bmw"
   ]
  },
  {
   "cell_type": "code",
   "execution_count": null,
   "id": "761f1a70-e157-4d0a-b3a8-dc3e40f828ec",
   "metadata": {},
   "outputs": [],
   "source": [
    "shp = r'D:\\Data\\AIS\\Vessel Traffic Data March 2024\\cts_srr_03_2024_pt\\cts_srr_03_2024_pt\\cts_srr_03_2024_pt.shp'\n",
    "\n",
    "def load(shp):\n",
    "    with fiona.open(shp) as src:\n",
    "        for feature in src:\n",
    "            props = feature['properties']\n",
    "            geom = feature.geometry\n",
    "            x, y = geom.coordinates\n",
    "            yield props['TIMESTAMP'], props['TYPE'], x, y\n",
    "\n",
    "for row in load(shp):\n",
    "    print(row)\n",
    "    break"
   ]
  },
  {
   "cell_type": "code",
   "execution_count": null,
   "id": "15edae6d-7ccf-44a7-b9ad-ab677870f550",
   "metadata": {},
   "outputs": [],
   "source": [
    "df = pd.DataFrame.from_records(load(shp), columns=['TS', 'TYPE', 'LON', 'LAT'])"
   ]
  },
  {
   "cell_type": "code",
   "execution_count": null,
   "id": "990adf58-13ea-438c-8b3c-47f48c1b2732",
   "metadata": {},
   "outputs": [],
   "source": [
    "df.head()"
   ]
  },
  {
   "cell_type": "code",
   "execution_count": null,
   "id": "739e473e-b7c8-42d6-ba6a-959572b2d637",
   "metadata": {},
   "outputs": [],
   "source": [
    "def short_type(t):\n",
    "    \"\"\"Convert types such as 'Tanker - this', 'Tanker - that' to 'Tanker'.\"\"\"\n",
    "\n",
    "    if t is None or t.startswith('unknown'):\n",
    "        return 'Other'\n",
    "    elif t.startswith('Towing'):\n",
    "        return 'Towing'\n",
    "    elif t.startswith('Local'):\n",
    "        return 'Local'\n",
    "    elif t:\n",
    "        return t.partition('-')[0].strip()\n",
    "    else:\n",
    "        return t\n",
    "    \n",
    "df['TYPE'] = df['TYPE'].apply(short_type)\n",
    "df.head()"
   ]
  },
  {
   "cell_type": "code",
   "execution_count": null,
   "id": "643cdaba-6852-40c4-ba22-94830e3c6370",
   "metadata": {},
   "outputs": [],
   "source": [
    "df.shape"
   ]
  },
  {
   "cell_type": "code",
   "execution_count": null,
   "id": "05756d49-d163-4fac-93e2-6e8a4ee1e8e8",
   "metadata": {},
   "outputs": [],
   "source": [
    "df.to_parquet('D:/Data/AIS/March2024.parquet')"
   ]
  },
  {
   "cell_type": "code",
   "execution_count": null,
   "id": "272afba0-4ef5-4b32-bc4a-124d52032b98",
   "metadata": {},
   "outputs": [],
   "source": [
    "type_cats = df['TYPE'].astype('category')\n",
    "cats = type_cats.cat.categories\n",
    "print(len(cats))\n",
    "cats"
   ]
  },
  {
   "cell_type": "code",
   "execution_count": null,
   "id": "3108da18-8eaf-4208-85b1-8978da8a8fa5",
   "metadata": {},
   "outputs": [],
   "source": [
    "print('\\n'.join(cats))"
   ]
  },
  {
   "cell_type": "code",
   "execution_count": null,
   "id": "fa6042c6-de85-46f2-bca5-957e816f058a",
   "metadata": {},
   "outputs": [],
   "source": [
    "df_counts = df.groupby('TYPE', as_index=False).size().sort_values(by='size', ascending=False).reset_index()\n",
    "df_10 = df_counts.head(10)\n",
    "df_10"
   ]
  },
  {
   "cell_type": "code",
   "execution_count": null,
   "id": "40574f32-107b-4ec2-a5eb-ffbf3e02969b",
   "metadata": {},
   "outputs": [],
   "source": [
    "top10 = df[df['TYPE'].isin(df_10['TYPE'])]\n",
    "top10.shape"
   ]
  },
  {
   "cell_type": "code",
   "execution_count": null,
   "id": "e3be4307-8ca3-49e2-bd69-f44c11affac3",
   "metadata": {},
   "outputs": [],
   "source": [
    "minx, miny = df[['LON', 'LAT']].min()\n",
    "maxx, maxy = df[['LON', 'LAT']].max()\n",
    "minx, miny, maxx, maxy"
   ]
  },
  {
   "cell_type": "code",
   "execution_count": null,
   "id": "3c980c53-8827-4103-810b-4065710751c9",
   "metadata": {},
   "outputs": [],
   "source": [
    "west, south = df[['LON', 'LAT']].min()\n",
    "east, north = df[['LON', 'LAT']].max()\n",
    "west, south, east, north"
   ]
  },
  {
   "cell_type": "code",
   "execution_count": null,
   "id": "ef799581-29ab-4fb1-b337-544a08d153b3",
   "metadata": {},
   "outputs": [],
   "source": [
    "west, south, east, north = -58.09099823933421902,143.1142655752374822,-29.08294826079943363,162.9997066670000549\n",
    "w, h = 291, 424\n",
    "south, west, north, east = west, south, east, north"
   ]
  },
  {
   "cell_type": "code",
   "execution_count": null,
   "id": "a506544d-9b4b-4bf7-82c0-1f6f70f9e734",
   "metadata": {},
   "outputs": [],
   "source": [
    "x_range = west, east\n",
    "y_range = south, north\n",
    "# w, h = 800, 800\n",
    "# df = taxis.df_count\n",
    "cvs = ds.Canvas(plot_width=w, plot_height=h, x_range=x_range, y_range=y_range)\n",
    "agg = cvs.points(df, 'LON', 'LAT',  ds.count())\n",
    "# cmap = bmw if style_name=='nyc_bmw' else fire\n",
    "cmap = fire\n",
    "img = tf.shade(agg, cmap=cmap, how='eq_hist')\n",
    "img = tf.dynspread(img, threshold=0.3, max_px=4)\n",
    "img#.to_pil()"
   ]
  },
  {
   "cell_type": "code",
   "execution_count": null,
   "id": "b47b44b9-8633-4f9b-9eac-be14d9d612ec",
   "metadata": {},
   "outputs": [],
   "source": []
  }
 ],
 "metadata": {
  "kernelspec": {
   "display_name": "Python 3 (ipykernel)",
   "language": "python",
   "name": "python3"
  },
  "language_info": {
   "codemirror_mode": {
    "name": "ipython",
    "version": 3
   },
   "file_extension": ".py",
   "mimetype": "text/x-python",
   "name": "python",
   "nbconvert_exporter": "python",
   "pygments_lexer": "ipython3",
   "version": "3.13.5"
  }
 },
 "nbformat": 4,
 "nbformat_minor": 5
}
